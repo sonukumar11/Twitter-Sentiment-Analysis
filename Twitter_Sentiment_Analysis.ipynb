{
  "nbformat": 4,
  "nbformat_minor": 0,
  "metadata": {
    "colab": {
      "name": "Twitter Sentiment Analysis.ipynb",
      "provenance": []
    },
    "kernelspec": {
      "name": "python3",
      "display_name": "Python 3"
    },
    "language_info": {
      "name": "python"
    }
  },
  "cells": [
    {
      "cell_type": "markdown",
      "metadata": {
        "id": "dpVn87GoIkOh"
      },
      "source": [
        "## Importing the required Libraries"
      ]
    },
    {
      "cell_type": "code",
      "metadata": {
        "id": "67IxrIdqJIFA"
      },
      "source": [
        "# API Key :- nkhVf9WFufr88ayMoHCY9TxHO\n",
        "# API Secret Key:- iO3sWZm1KYG8Y8pDEv5D9kM4rpjOEr2MhScf7EmyaIQd1FAmcv\n",
        "\n",
        "# Access Token: 1413469823133052930-T7c3IDDCpcbKU0ED3VBVCpw4J0rOAV\n",
        "# Access Token Secret: Ay9T1ogRPqv2GABmBfNTSBDwYnDb6K7ooXxnhBaxaKzzr"
      ],
      "execution_count": 1,
      "outputs": []
    },
    {
      "cell_type": "code",
      "metadata": {
        "id": "W4bxwOXPvavp"
      },
      "source": [
        "#this library will help us in Natural Language Processing Basic tasks..\n",
        "from textblob import TextBlob\n"
      ],
      "execution_count": 2,
      "outputs": []
    },
    {
      "cell_type": "code",
      "metadata": {
        "id": "qxQqtOxLvrZ8"
      },
      "source": [
        "#This Library will help us in connecting to the Twitter API and Twitter Server\n",
        "import tweepy"
      ],
      "execution_count": 3,
      "outputs": []
    },
    {
      "cell_type": "code",
      "metadata": {
        "id": "m9bXzrr_v1mG"
      },
      "source": [
        "#This Library will help us in Visualisation Purpose..\n",
        "import matplotlib.pyplot as plt\n"
      ],
      "execution_count": 4,
      "outputs": []
    },
    {
      "cell_type": "markdown",
      "metadata": {
        "id": "d3olVMR4IqB-"
      },
      "source": [
        "## Connceting with the Twitter API"
      ]
    },
    {
      "cell_type": "code",
      "metadata": {
        "id": "6j6RIurGwQKq"
      },
      "source": [
        "consumer_key = \"nkhVf9WFufr88ayMoHCY9TxHO\"\n",
        "consumer_secret = \"iO3sWZm1KYG8Y8pDEv5D9kM4rpjOEr2MhScf7EmyaIQd1FAmcv\"\n",
        "access_token = \"1413469823133052930-T7c3IDDCpcbKU0ED3VBVCpw4J0rOAV\"\n",
        "access_token_secret = \"Ay9T1ogRPqv2GABmBfNTSBDwYnDb6K7ooXxnhBaxaKzzr\""
      ],
      "execution_count": 8,
      "outputs": []
    },
    {
      "cell_type": "code",
      "metadata": {
        "id": "zihSHeqdwsUv"
      },
      "source": [
        "#Authencating user with tweepy library\n",
        "auth = tweepy.OAuthHandler(consumer_key,consumer_secret)\n",
        "auth.set_access_token(access_token,access_token_secret)"
      ],
      "execution_count": 9,
      "outputs": []
    },
    {
      "cell_type": "code",
      "metadata": {
        "id": "9R8a6BOdxO0h"
      },
      "source": [
        "#Connceting to the tweepy API\n",
        "api = tweepy.API(auth)"
      ],
      "execution_count": 11,
      "outputs": []
    },
    {
      "cell_type": "code",
      "metadata": {
        "colab": {
          "base_uri": "https://localhost:8080/"
        },
        "id": "nqJAjCcnxa5T",
        "outputId": "93a9e526-2740-46e9-8b44-f441bbb52bfa"
      },
      "source": [
        "type(api)"
      ],
      "execution_count": 12,
      "outputs": [
        {
          "output_type": "execute_result",
          "data": {
            "text/plain": [
              "tweepy.api.API"
            ]
          },
          "metadata": {
            "tags": []
          },
          "execution_count": 12
        }
      ]
    },
    {
      "cell_type": "code",
      "metadata": {
        "id": "WE6ZncYJxgJB"
      },
      "source": [
        "#Fetching Some tweets based on some \"term\"\n",
        "search_term = \"Money Heist\"\n",
        "no_of_tweets = 1000"
      ],
      "execution_count": 13,
      "outputs": []
    },
    {
      "cell_type": "code",
      "metadata": {
        "id": "oMQD2BRzxs9W"
      },
      "source": [
        "tweets = tweepy.Cursor(api.search,q = search_term).items(no_of_tweets)"
      ],
      "execution_count": 31,
      "outputs": []
    },
    {
      "cell_type": "code",
      "metadata": {
        "colab": {
          "base_uri": "https://localhost:8080/"
        },
        "id": "1kFFbHC7yisH",
        "outputId": "5dc40883-e6da-425f-c013-d14e0f18b759"
      },
      "source": [
        "print(tweets)"
      ],
      "execution_count": 17,
      "outputs": [
        {
          "output_type": "stream",
          "text": [
            "<tweepy.cursor.ItemIterator object at 0x7f27e97304d0>\n"
          ],
          "name": "stdout"
        }
      ]
    },
    {
      "cell_type": "markdown",
      "metadata": {
        "id": "YTWIrWfPIwA7"
      },
      "source": [
        "## Understanding the working of TextBlob"
      ]
    },
    {
      "cell_type": "code",
      "metadata": {
        "id": "VLlzaORSywhD"
      },
      "source": [
        "a = \"I am a bad cricket Player\"\n",
        "b = \"I am a good cricket Player\"\n",
        "c = \"I am a cricket Player\""
      ],
      "execution_count": 18,
      "outputs": []
    },
    {
      "cell_type": "code",
      "metadata": {
        "colab": {
          "base_uri": "https://localhost:8080/"
        },
        "id": "imTD7YuFy7J-",
        "outputId": "ef91688f-6f0b-4f50-b96a-1660ad396131"
      },
      "source": [
        "TextBlob(a).sentiment"
      ],
      "execution_count": 19,
      "outputs": [
        {
          "output_type": "execute_result",
          "data": {
            "text/plain": [
              "Sentiment(polarity=-0.6999999999999998, subjectivity=0.6666666666666666)"
            ]
          },
          "metadata": {
            "tags": []
          },
          "execution_count": 19
        }
      ]
    },
    {
      "cell_type": "code",
      "metadata": {
        "colab": {
          "base_uri": "https://localhost:8080/"
        },
        "id": "IWQzocfv1ATq",
        "outputId": "2eebb6a2-dee1-46c1-e32f-197dd4de9eba"
      },
      "source": [
        "#As the sentence as negative sentiment we get neagtive polarity\n",
        "TextBlob(a).sentiment.polarity"
      ],
      "execution_count": 20,
      "outputs": [
        {
          "output_type": "execute_result",
          "data": {
            "text/plain": [
              "-0.6999999999999998"
            ]
          },
          "metadata": {
            "tags": []
          },
          "execution_count": 20
        }
      ]
    },
    {
      "cell_type": "code",
      "metadata": {
        "colab": {
          "base_uri": "https://localhost:8080/"
        },
        "id": "5SOLtcUw1NXP",
        "outputId": "c2d12cc5-ff42-4b24-fbcc-9e9a38fe9dff"
      },
      "source": [
        "#As this \"b\" sentence has a positive \n",
        "TextBlob(b).sentiment.polarity"
      ],
      "execution_count": 21,
      "outputs": [
        {
          "output_type": "execute_result",
          "data": {
            "text/plain": [
              "0.7"
            ]
          },
          "metadata": {
            "tags": []
          },
          "execution_count": 21
        }
      ]
    },
    {
      "cell_type": "code",
      "metadata": {
        "colab": {
          "base_uri": "https://localhost:8080/"
        },
        "id": "4c8BO2Jb-P5h",
        "outputId": "eb447148-bb35-46cb-bf68-88831042820b"
      },
      "source": [
        "#As sentence 3 is neutral i.e it has no polarity...\n",
        "TextBlob(c).sentiment.polarity"
      ],
      "execution_count": 22,
      "outputs": [
        {
          "output_type": "execute_result",
          "data": {
            "text/plain": [
              "0.0"
            ]
          },
          "metadata": {
            "tags": []
          },
          "execution_count": 22
        }
      ]
    },
    {
      "cell_type": "markdown",
      "metadata": {
        "id": "TOguaCuzI5Re"
      },
      "source": [
        "## Iterate the data and convert the result into percentage"
      ]
    },
    {
      "cell_type": "code",
      "metadata": {
        "id": "I85zZWDu0_Dt"
      },
      "source": [
        "positive = 0\n",
        "negative = 0\n",
        "neutral = 0\n",
        "polarity = 0"
      ],
      "execution_count": 25,
      "outputs": []
    },
    {
      "cell_type": "code",
      "metadata": {
        "id": "aVpXe8yl_oJ9"
      },
      "source": [
        "#iterating over every single tweets\n",
        "\n",
        "for tweet in tweets:\n",
        "  analysis = TextBlob(tweet.text)\n",
        "  polarity += analysis.sentiment.polarity\n",
        "\n",
        "  if analysis.sentiment.polarity == 0:\n",
        "    neutral += 1\n",
        "  elif analysis.sentiment.polarity > 0.00:\n",
        "    positive += 1\n",
        "  elif analysis.sentiment.polarity < 0.00:\n",
        "    negative += 1"
      ],
      "execution_count": 33,
      "outputs": []
    },
    {
      "cell_type": "code",
      "metadata": {
        "colab": {
          "base_uri": "https://localhost:8080/"
        },
        "id": "aZCEB-flAtR5",
        "outputId": "f52dac4e-e455-4c66-9116-7409f096f4ed"
      },
      "source": [
        "print(\"The Number of Positive tweets are : \",positive)\n",
        "print(\"The Number of Negative tweets are : \",negative)\n",
        "print(\"The Number of Neutral tweets are : \",neutral)"
      ],
      "execution_count": 34,
      "outputs": [
        {
          "output_type": "stream",
          "text": [
            "The Number of Positive tweets are :  279\n",
            "The Number of Negative tweets are :  136\n",
            "The Number of Neutral tweets are :  584\n"
          ],
          "name": "stdout"
        }
      ]
    },
    {
      "cell_type": "code",
      "metadata": {
        "colab": {
          "base_uri": "https://localhost:8080/"
        },
        "id": "jCne6xT0CAup",
        "outputId": "8f4fe6b6-e3c1-4585-8b06-42b57e3d65da"
      },
      "source": [
        "polarity"
      ],
      "execution_count": 35,
      "outputs": [
        {
          "output_type": "execute_result",
          "data": {
            "text/plain": [
              "39.28523178210675"
            ]
          },
          "metadata": {
            "tags": []
          },
          "execution_count": 35
        }
      ]
    },
    {
      "cell_type": "code",
      "metadata": {
        "id": "ZjgCuiJdCaJI"
      },
      "source": [
        "#defining a function to calculate the percentage of sentiments....\n",
        "def percentage(part,whole):\n",
        "  return 100 * float(part)/float(whole)\n"
      ],
      "execution_count": 37,
      "outputs": []
    },
    {
      "cell_type": "code",
      "metadata": {
        "id": "61fUvbhHCtIl"
      },
      "source": [
        "positive = percentage(positive,no_of_tweets)\n",
        "negative = percentage(negative,no_of_tweets)\n",
        "neutral = percentage(neutral,no_of_tweets)\n",
        "polarity = percentage(polarity,no_of_tweets)"
      ],
      "execution_count": 38,
      "outputs": []
    },
    {
      "cell_type": "code",
      "metadata": {
        "id": "ipBllWfhDP8h"
      },
      "source": [
        "#formatting the values ..\n",
        "positive = format(positive,\".2f\")\n",
        "negative = format(negative,\".2f\")\n",
        "neutral  = format(neutral,\".2f\")\n",
        "polarity = format(polarity,\".2f\")"
      ],
      "execution_count": 40,
      "outputs": []
    },
    {
      "cell_type": "code",
      "metadata": {
        "colab": {
          "base_uri": "https://localhost:8080/",
          "height": 35
        },
        "id": "_Av0x9RcDpME",
        "outputId": "a5f7ac21-78e8-415b-f856-bc9a7bbcdf60"
      },
      "source": [
        "polarity"
      ],
      "execution_count": 41,
      "outputs": [
        {
          "output_type": "execute_result",
          "data": {
            "application/vnd.google.colaboratory.intrinsic+json": {
              "type": "string"
            },
            "text/plain": [
              "'3.93'"
            ]
          },
          "metadata": {
            "tags": []
          },
          "execution_count": 41
        }
      ]
    },
    {
      "cell_type": "code",
      "metadata": {
        "id": "YBBVILvzE-RT"
      },
      "source": [
        "polarity = float(polarity)"
      ],
      "execution_count": 50,
      "outputs": []
    },
    {
      "cell_type": "markdown",
      "metadata": {
        "id": "s-YXtho9JC0H"
      },
      "source": [
        "## Getting the Results of Analysis"
      ]
    },
    {
      "cell_type": "code",
      "metadata": {
        "colab": {
          "base_uri": "https://localhost:8080/"
        },
        "id": "acMAxnhKDrg9",
        "outputId": "a7598284-a14b-4dae-8f35-bad29aba3d97"
      },
      "source": [
        "print(\"Reaction of people on \" + search_term + \n",
        "      \" By Analyzing \" + str(no_of_tweets) + \" Tweets\")\n",
        "\n",
        "if polarity == 0:\n",
        "  print(\" Is Neutral\")\n",
        "elif polarity > 0.00:\n",
        "  print(\" Is Positive\")\n",
        "elif polarity < 0.00:\n",
        "  print(\" Is Negative\")"
      ],
      "execution_count": 51,
      "outputs": [
        {
          "output_type": "stream",
          "text": [
            "<class 'float'>\n",
            "Reaction of people on Money Heist By Analyzing 1000 Tweets\n",
            " Is Positive\n"
          ],
          "name": "stdout"
        }
      ]
    }
  ]
}